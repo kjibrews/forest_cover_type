{
 "cells": [
  {
   "cell_type": "markdown",
   "metadata": {},
   "source": [
    "# Final Submission    \n",
    "# STAT 441 Data Challenge 2"
   ]
  },
  {
   "cell_type": "markdown",
   "metadata": {},
   "source": [
    "## 1. Import packages and pandas"
   ]
  },
  {
   "cell_type": "code",
   "execution_count": 1,
   "metadata": {},
   "outputs": [],
   "source": [
    "#import packages and pandas\n",
    "import pandas as pd\n",
    "import matplotlib.pyplot as plt\n",
    "from matplotlib.offsetbox import AnnotationBbox, OffsetImage\n",
    "%matplotlib inline\n",
    "import numpy as np\n",
    "from numpy.linalg import norm, inv\n",
    "import scipy.io as sio\n",
    "from scipy.io import loadmat\n",
    "from sklearn.model_selection import train_test_split\n",
    "from sklearn import metrics\n",
    "from sklearn.preprocessing import normalize\n",
    "import math as m\n",
    "import time\n",
    "import seaborn as sns\n",
    "\n",
    "#seed for reproducibility\n",
    "seed = 1234567\n",
    "np.random.seed(seed)\n",
    "\n",
    "#Random Forest, ExtraTrees\n",
    "from sklearn import svm, ensemble\n",
    "from sklearn.ensemble import RandomForestClassifier, ExtraTreesClassifier, AdaBoostClassifier\n",
    "\n",
    "#XGBoost\n",
    "from xgboost import XGBClassifier\n",
    "\n",
    "#SVM\n",
    "from sklearn.svm import SVC\n",
    "from imblearn.over_sampling import SMOTE"
   ]
  },
  {
   "cell_type": "markdown",
   "metadata": {},
   "source": [
    "## 2. Import training and testing data"
   ]
  },
  {
   "cell_type": "code",
   "execution_count": 2,
   "metadata": {},
   "outputs": [],
   "source": [
    "#import training and testing data\n",
    "train = pd.read_csv(\"train.csv\")\n",
    "test = pd.read_csv(\"test.csv\")"
   ]
  },
  {
   "cell_type": "markdown",
   "metadata": {},
   "source": [
    "## 3. Data Exploration"
   ]
  },
  {
   "cell_type": "markdown",
   "metadata": {},
   "source": [
    "### Data Visualisations & Exploration"
   ]
  },
  {
   "cell_type": "markdown",
   "metadata": {},
   "source": [
    "#### Shape & data description"
   ]
  },
  {
   "cell_type": "code",
   "execution_count": 3,
   "metadata": {},
   "outputs": [
    {
     "name": "stdout",
     "output_type": "stream",
     "text": [
      "Training Data\n",
      "(481011, 55)\n",
      "Testing Data\n",
      "(100000, 55)\n"
     ]
    }
   ],
   "source": [
    "print(\"Training Data\")\n",
    "print(train.shape) #shape\n",
    "#print(train.head()) #head\n",
    "\n",
    "print(\"Testing Data\")\n",
    "print(test.shape) #shape\n",
    "#print(test.head())#head"
   ]
  },
  {
   "cell_type": "code",
   "execution_count": 4,
   "metadata": {
    "scrolled": true
   },
   "outputs": [
    {
     "data": {
      "text/html": [
       "<div>\n",
       "<style scoped>\n",
       "    .dataframe tbody tr th:only-of-type {\n",
       "        vertical-align: middle;\n",
       "    }\n",
       "\n",
       "    .dataframe tbody tr th {\n",
       "        vertical-align: top;\n",
       "    }\n",
       "\n",
       "    .dataframe thead th {\n",
       "        text-align: right;\n",
       "    }\n",
       "</style>\n",
       "<table border=\"1\" class=\"dataframe\">\n",
       "  <thead>\n",
       "    <tr style=\"text-align: right;\">\n",
       "      <th></th>\n",
       "      <th>Elevation</th>\n",
       "      <th>Aspect</th>\n",
       "      <th>Slope</th>\n",
       "      <th>Horizontal_Distance_To_Hydrology</th>\n",
       "      <th>Vertical_Distance_To_Hydrology</th>\n",
       "      <th>Horizontal_Distance_To_Roadways</th>\n",
       "      <th>Hillshade_9am</th>\n",
       "      <th>Hillshade_Noon</th>\n",
       "      <th>Hillshade_3pm</th>\n",
       "      <th>Horizontal_Distance_To_Fire_Points</th>\n",
       "      <th>...</th>\n",
       "      <th>soil_Type 32</th>\n",
       "      <th>soil_Type 33</th>\n",
       "      <th>soil_Type 34</th>\n",
       "      <th>soil_Type 35</th>\n",
       "      <th>soil_Type 36</th>\n",
       "      <th>soil_Type 37</th>\n",
       "      <th>soil_Type 38</th>\n",
       "      <th>soil_Type 39</th>\n",
       "      <th>soil_Type 40</th>\n",
       "      <th>Forest Cover Type</th>\n",
       "    </tr>\n",
       "  </thead>\n",
       "  <tbody>\n",
       "  </tbody>\n",
       "</table>\n",
       "<p>0 rows × 55 columns</p>\n",
       "</div>"
      ],
      "text/plain": [
       "Empty DataFrame\n",
       "Columns: [Elevation, Aspect, Slope, Horizontal_Distance_To_Hydrology, Vertical_Distance_To_Hydrology, Horizontal_Distance_To_Roadways, Hillshade_9am, Hillshade_Noon, Hillshade_3pm, Horizontal_Distance_To_Fire_Points, Rawah Wilderness Area, Neota Wilderness Area, Comanche Peak Wilderness Area, Cache la Poudre Wilderness Area, soil_Type 1, soil_Type 2, soil_Type 3, soil_Type 4, soil_Type 5, soil_Type 6, soil_Type 7, soil_Type 8, soil_Type 9, soil_Type 10, soil_Type 11, soil_Type 12, soil_Type 13, soil_Type 14, soil_Type 15, soil_Type 16, soil_Type 17, soil_Type 18, soil_Type 19, soil_Type 20, soil_Type 21, soil_Type 22, soil_Type 23, soil_Type 24, soil_Type 25, soil_Type 26, soil_Type 27, soil_Type 28, soil_Type 29, soil_Type 30, soil_Type 31, soil_Type 32, soil_Type 33, soil_Type 34, soil_Type 35, soil_Type 36, soil_Type 37, soil_Type 38, soil_Type 39, soil_Type 40, Forest Cover Type]\n",
       "Index: []\n",
       "\n",
       "[0 rows x 55 columns]"
      ]
     },
     "execution_count": 4,
     "metadata": {},
     "output_type": "execute_result"
    }
   ],
   "source": [
    "train[train.isnull().any(axis=1)] #check for missing data"
   ]
  },
  {
   "cell_type": "code",
   "execution_count": 5,
   "metadata": {
    "scrolled": true
   },
   "outputs": [
    {
     "data": {
      "text/html": [
       "<div>\n",
       "<style scoped>\n",
       "    .dataframe tbody tr th:only-of-type {\n",
       "        vertical-align: middle;\n",
       "    }\n",
       "\n",
       "    .dataframe tbody tr th {\n",
       "        vertical-align: top;\n",
       "    }\n",
       "\n",
       "    .dataframe thead th {\n",
       "        text-align: right;\n",
       "    }\n",
       "</style>\n",
       "<table border=\"1\" class=\"dataframe\">\n",
       "  <thead>\n",
       "    <tr style=\"text-align: right;\">\n",
       "      <th></th>\n",
       "      <th>ids</th>\n",
       "      <th>Elevation</th>\n",
       "      <th>Aspect</th>\n",
       "      <th>Slope</th>\n",
       "      <th>Horizontal_Distance_To_Hydrology</th>\n",
       "      <th>Vertical_Distance_To_Hydrology</th>\n",
       "      <th>Horizontal_Distance_To_Roadways</th>\n",
       "      <th>Hillshade_9am</th>\n",
       "      <th>Hillshade_Noon</th>\n",
       "      <th>Hillshade_3pm</th>\n",
       "      <th>...</th>\n",
       "      <th>soil_Type 31</th>\n",
       "      <th>soil_Type 32</th>\n",
       "      <th>soil_Type 33</th>\n",
       "      <th>soil_Type 34</th>\n",
       "      <th>soil_Type 35</th>\n",
       "      <th>soil_Type 36</th>\n",
       "      <th>soil_Type 37</th>\n",
       "      <th>soil_Type 38</th>\n",
       "      <th>soil_Type 39</th>\n",
       "      <th>soil_Type 40</th>\n",
       "    </tr>\n",
       "  </thead>\n",
       "  <tbody>\n",
       "  </tbody>\n",
       "</table>\n",
       "<p>0 rows × 55 columns</p>\n",
       "</div>"
      ],
      "text/plain": [
       "Empty DataFrame\n",
       "Columns: [ids, Elevation, Aspect, Slope, Horizontal_Distance_To_Hydrology, Vertical_Distance_To_Hydrology, Horizontal_Distance_To_Roadways, Hillshade_9am, Hillshade_Noon, Hillshade_3pm, Horizontal_Distance_To_Fire_Points, Rawah Wilderness Area, Neota Wilderness Area, Comanche Peak Wilderness Area, Cache la Poudre Wilderness Area, soil_Type 1, soil_Type 2, soil_Type 3, soil_Type 4, soil_Type 5, soil_Type 6, soil_Type 7, soil_Type 8, soil_Type 9, soil_Type 10, soil_Type 11, soil_Type 12, soil_Type 13, soil_Type 14, soil_Type 15, soil_Type 16, soil_Type 17, soil_Type 18, soil_Type 19, soil_Type 20, soil_Type 21, soil_Type 22, soil_Type 23, soil_Type 24, soil_Type 25, soil_Type 26, soil_Type 27, soil_Type 28, soil_Type 29, soil_Type 30, soil_Type 31, soil_Type 32, soil_Type 33, soil_Type 34, soil_Type 35, soil_Type 36, soil_Type 37, soil_Type 38, soil_Type 39, soil_Type 40]\n",
       "Index: []\n",
       "\n",
       "[0 rows x 55 columns]"
      ]
     },
     "execution_count": 5,
     "metadata": {},
     "output_type": "execute_result"
    }
   ],
   "source": [
    "test[test.isnull().any(axis=1)] #check for missing data"
   ]
  },
  {
   "cell_type": "markdown",
   "metadata": {},
   "source": [
    "There are no rows with null values in the training nor testing sets."
   ]
  },
  {
   "cell_type": "code",
   "execution_count": 6,
   "metadata": {
    "scrolled": true
   },
   "outputs": [],
   "source": [
    "#train.describe()"
   ]
  },
  {
   "cell_type": "code",
   "execution_count": 7,
   "metadata": {},
   "outputs": [],
   "source": [
    "#test.describe()"
   ]
  },
  {
   "cell_type": "markdown",
   "metadata": {},
   "source": [
    "#### Correlations\n",
    "Plot correlation map without Wilderness_Area and Soil_Type since they are binary values.     "
   ]
  },
  {
   "cell_type": "code",
   "execution_count": 8,
   "metadata": {
    "scrolled": true
   },
   "outputs": [
    {
     "data": {
      "image/png": "[encoded data removed]",
      "text/plain": [
       "<matplotlib.figure.Figure at 0x7fde082d0c50>"
      ]
     },
     "metadata": {},
     "output_type": "display_data"
    }
   ],
   "source": [
    "#Correlation\n",
    "# Compute the correlation matrix\n",
    "corr_mat = train.iloc[:,:10].corr()#without soil type & Wilderness areas since they are binary variables\n",
    "cmap = sns.diverging_palette(250, 10, as_cmap=True) # Generate a custom diverging colormap\n",
    "\n",
    "# Generate a mask for the upper triangle\n",
    "mask = np.zeros_like(corr_mat, dtype=np.bool)\n",
    "mask[np.triu_indices_from(mask)] = True\n",
    "\n",
    "# Set up the matplotlib figure\n",
    "f, ax = plt.subplots(figsize=(11, 9))\n",
    "\n",
    "# Generate a custom diverging colormap\n",
    "cmap = sns.diverging_palette(220, 10, as_cmap=True)\n",
    "\n",
    "# Draw the heatmap with the mask and correct aspect ratio\n",
    "sns.heatmap(corr_mat, mask=mask, cmap=cmap, vmax=.3, center=0,annot = True,\n",
    "            square=True, linewidths=.5, cbar_kws={\"shrink\": .5})\n",
    "plt.show()"
   ]
  },
  {
   "cell_type": "markdown",
   "metadata": {},
   "source": [
    "#### VIF"
   ]
  },
  {
   "cell_type": "code",
   "execution_count": 9,
   "metadata": {},
   "outputs": [
    {
     "data": {
      "text/plain": [
       "const                                 4232.185316\n",
       "Elevation                                1.336701\n",
       "Aspect                                   1.863993\n",
       "Slope                                    6.977782\n",
       "Horizontal_Distance_To_Hydrology         1.813726\n",
       "Vertical_Distance_To_Hydrology           1.832575\n",
       "Horizontal_Distance_To_Roadways          1.301442\n",
       "Hillshade_9am                          107.885044\n",
       "Hillshade_Noon                          39.044445\n",
       "Hillshade_3pm                          148.252926\n",
       "Horizontal_Distance_To_Fire_Points       1.163611\n",
       "dtype: float64"
      ]
     },
     "execution_count": 9,
     "metadata": {},
     "output_type": "execute_result"
    }
   ],
   "source": [
    "#VIF for 1st 10 features\n",
    "from statsmodels.tools.tools import add_constant\n",
    "from statsmodels.stats.outliers_influence import variance_inflation_factor\n",
    "X = add_constant(train.iloc[:,:10])\n",
    "pd.Series([variance_inflation_factor(X.values, i)\n",
    "for i in range(X.shape[1])], \n",
    "          index=X.columns)"
   ]
  },
  {
   "cell_type": "code",
   "execution_count": 10,
   "metadata": {},
   "outputs": [
    {
     "data": {
      "image/png": "[encoded data removed]",
      "text/plain": [
       "<matplotlib.figure.Figure at 0x7fde0280b7b8>"
      ]
     },
     "metadata": {},
     "output_type": "display_data"
    }
   ],
   "source": [
    "#without soil type & Wilderness areas since they are binary variables\n",
    "train.iloc[:,:10].hist(figsize=(16,10), bins=50) \n",
    "plt.show()\n",
    "#Notice Hhillshade_3pm has 0 values"
   ]
  },
  {
   "cell_type": "code",
   "execution_count": 11,
   "metadata": {},
   "outputs": [
    {
     "name": "stdout",
     "output_type": "stream",
     "text": [
      "Index(['Elevation', 'Aspect', 'Slope', 'Horizontal_Distance_To_Hydrology',\n",
      "       'Vertical_Distance_To_Hydrology', 'Horizontal_Distance_To_Roadways',\n",
      "       'Hillshade_9am', 'Hillshade_Noon', 'Hillshade_3pm',\n",
      "       'Horizontal_Distance_To_Fire_Points', 'Rawah Wilderness Area',\n",
      "       'Neota Wilderness Area', 'Comanche Peak Wilderness Area',\n",
      "       'Cache la Poudre Wilderness Area', 'soil_Type 1', 'soil_Type 2',\n",
      "       'soil_Type 3', 'soil_Type 4', 'soil_Type 5', 'soil_Type 6',\n",
      "       'soil_Type 7', 'soil_Type 8', 'soil_Type 9', 'soil_Type 10',\n",
      "       'soil_Type 11', 'soil_Type 12', 'soil_Type 13', 'soil_Type 14',\n",
      "       'soil_Type 15', 'soil_Type 16', 'soil_Type 17', 'soil_Type 18',\n",
      "       'soil_Type 19', 'soil_Type 20', 'soil_Type 21', 'soil_Type 22',\n",
      "       'soil_Type 23', 'soil_Type 24', 'soil_Type 25', 'soil_Type 26',\n",
      "       'soil_Type 27', 'soil_Type 28', 'soil_Type 29', 'soil_Type 30',\n",
      "       'soil_Type 31', 'soil_Type 32', 'soil_Type 33', 'soil_Type 34',\n",
      "       'soil_Type 35', 'soil_Type 36', 'soil_Type 37', 'soil_Type 38',\n",
      "       'soil_Type 39', 'soil_Type 40', 'Forest Cover Type'],\n",
      "      dtype='object')\n",
      "Forest Cover Type\n",
      "1    175280\n",
      "2    234786\n",
      "3     29608\n",
      "4      2274\n",
      "5      7910\n",
      "6     14306\n",
      "7     16847\n",
      "dtype: int64\n"
     ]
    },
    {
     "data": {
      "text/plain": [
       "<matplotlib.axes._subplots.AxesSubplot at 0x7fddab437940>"
      ]
     },
     "execution_count": 11,
     "metadata": {},
     "output_type": "execute_result"
    },
    {
     "data": {
      "image/png": "[encoded data removed]",
      "text/plain": [
       "<matplotlib.figure.Figure at 0x7fddab39a400>"
      ]
     },
     "metadata": {},
     "output_type": "display_data"
    }
   ],
   "source": [
    "print(train.columns)\n",
    "print(train.groupby(\"Forest Cover Type\").size()) #unbalanced\n",
    "target = train[\"Forest Cover Type\"]\n",
    "target_count = target.value_counts()\n",
    "target_count.plot(kind='bar', title='Count (target)')"
   ]
  },
  {
   "cell_type": "markdown",
   "metadata": {},
   "source": [
    "Notice from the correlation map: (high correlation suggests that we could drop one)\n",
    "- Hillshade_9am and Hillshade_3pm = -0.78\n",
    "- Hillshade_9am and Aspect = -0.58\n",
    "- Slope and Hillshade_Noon = -0.53\n",
    "- Horizontal_Distance_To_Hydrology and Vertical_Distance_To_Hydrology = 0.61\n",
    "- Aspect and Hillshade_3pm = 0.65\n",
    "- Hillshade_Noon and Hillshade_3pm = 0.59\n",
    "\n",
    "From above we see that:    \n",
    "1. Soil type 7 and 15 are constant(each value is zero), so we could remove from both the training and testing sets.  \n",
    "2. Hillshade_9AM,Hillshade_Noon, Hillshade_3pm have high VIF > 10 => multicolinearity, possibly remove.  \n",
    "3. Slope also has VIF > 5, which could be a problem, could possibly remove. \n",
    "4. Wilderness_Area and Soil_Type are one hot encoded.\n",
    "\n",
    "Class imbalance: Class 2 and 1 have more values that the other classes\n",
    "So we can try to balance this by:    \n",
    "- oversampling points with type = 3,4,5,6,7,1\n",
    "- undersampling points with type = 2\n",
    "We'll use SMOTE for this."
   ]
  },
  {
   "cell_type": "markdown",
   "metadata": {},
   "source": [
    "## 4. Data Transformations."
   ]
  },
  {
   "cell_type": "code",
   "execution_count": 12,
   "metadata": {},
   "outputs": [],
   "source": [
    "#dropsoil = ['soil_Type 7','soil_Type 15', 'soil_Type 28','soil_Type 26','soil_Type 25',\n",
    "            #'soil_Type 5','soil_Type 8','soil_Type 9','soil_Type 36','soil_Type 18','soil_Type 14']\n",
    "train = train.drop(['soil_Type 7','soil_Type 15'], axis = 1)\n",
    "test = test.drop(['soil_Type 7','soil_Type 15'], axis = 1)\n",
    "#---------------------------------------------------------------------------------------------------------------------#\n",
    "Train_trans = train.copy() #duplicate\n",
    "Test_trans = test.copy() #duplicate\n",
    "#---------------------------------------------------------------------------------------------------------------------#\n",
    "#Treat the 0 values in Hillshade_3pm as missing values and replace with the median\n",
    "#Train_trans['Hillshade_3pm'].hist(figsize=(16,10), bins=50) \n",
    "#plt.show()\n",
    "hs_median = np.median(Train_trans['Hillshade_3pm'])\n",
    "Train_trans['Hillshade_3pm'] =Train_trans['Hillshade_3pm'].replace(0, hs_median)\n",
    "hstest_median = np.median(Test_trans['Hillshade_3pm'])\n",
    "Test_trans['Hillshade_3pm'] =Test_trans['Hillshade_3pm'].replace(0, hstest_median)\n",
    "#Train_trans['Hillshade_3pm'].hist(figsize=(16,10), bins=50) \n",
    "#plt.show()\n",
    "#---------------------------------------------------------------------------------------------------------------------#\n",
    "#Combine Wilderness Areas since these are one hot type encoded vectors\n",
    "Train_trans.rename(columns={'Rawah Wilderness Area': 'Wilderness_Area1', \n",
    "                                          'Neota Wilderness Area':'Wilderness_Area2',\n",
    "                                          'Comanche Peak Wilderness Area':'Wilderness_Area3',\n",
    "                                          'Cache la Poudre Wilderness Area':'Wilderness_Area4'}, inplace = True)\n",
    "Test_trans.rename(columns={'Rawah Wilderness Area': 'Wilderness_Area1', \n",
    "                                          'Neota Wilderness Area':'Wilderness_Area2',\n",
    "                                          'Comanche Peak Wilderness Area':'Wilderness_Area3',\n",
    "                                          'Cache la Poudre Wilderness Area':'Wilderness_Area4'}, inplace = True)\n",
    "#------------------------------------------------------------------------------------------------#  \n",
    "Train_trans['Wilderness_Area']=0\n",
    "for i in range(1,5):\n",
    "    Train_trans['Wilderness_Area']=Train_trans['Wilderness_Area']+i*Train_trans['Wilderness_Area'+str(i)]\n",
    "#------------------------------------------------------------------------------------------------#   \n",
    "Test_trans['Wilderness_Area']=0\n",
    "for i in range(1,5): #4 wilderness Areas\n",
    "    Test_trans['Wilderness_Area']=Test_trans['Wilderness_Area']+i*Test_trans['Wilderness_Area'+str(i)]\n",
    "#------------------------------------------------------------------------------------------------#     \n",
    "Train_trans = Train_trans.drop(['Wilderness_Area1','Wilderness_Area2', 'Wilderness_Area3', 'Wilderness_Area4'], axis = 1)\n",
    "Test_trans = Test_trans.drop(['Wilderness_Area1','Wilderness_Area2', 'Wilderness_Area3', 'Wilderness_Area4'], axis = 1)\n",
    "#---------------------------------------------------------------------------------------------------------------------#\n",
    "#Soiltype\n",
    "x = list(range(1,41))\n",
    "x.remove(7)\n",
    "x.remove(15)\n",
    "#x.remove(28)\n",
    "#x.remove(26)\n",
    "#x.remove(25)\n",
    "#x.remove(5)\n",
    "#x.remove(8)\n",
    "#x.remove(9)\n",
    "#x.remove(36)\n",
    "#x.remove(18)\n",
    "#x.remove(14)\n",
    "#------------------------------------------------------------------------------------------------#\n",
    "#Combine Soil_Type since these are one hot type encoded vectors\n",
    "#we already dropped 11 soil_types\n",
    "Train_trans['soil']=0\n",
    "for i in x:\n",
    "    Train_trans['soil']=Train_trans['soil']+i*Train_trans['soil_Type '+str(i)]\n",
    "#    \n",
    "Test_trans['soil']=0\n",
    "for i in x:\n",
    "    Test_trans['soil']=Test_trans['soil']+i*Test_trans['soil_Type '+str(i)]\n",
    "#------------------------------------------------------------------------------------------------#\n",
    "for i in x:\n",
    "    st = 'soil_Type '+str(i)\n",
    "    Train_trans = Train_trans.drop(st, axis = 1)\n",
    "#\n",
    "for i in x:\n",
    "    st = 'soil_Type '+str(i)\n",
    "    Test_trans = Test_trans.drop(st, axis = 1)\n",
    "#---------------------------------------------------------------------------------------------------------------------#"
   ]
  },
  {
   "cell_type": "code",
   "execution_count": 13,
   "metadata": {},
   "outputs": [
    {
     "name": "stdout",
     "output_type": "stream",
     "text": [
      "(481011, 13) (100000, 13)\n"
     ]
    }
   ],
   "source": [
    "print(Train_trans.shape, Test_trans.shape)"
   ]
  },
  {
   "cell_type": "code",
   "execution_count": 14,
   "metadata": {},
   "outputs": [],
   "source": [
    "#drop since they have high VIF\n",
    "Train_trans = Train_trans.drop([\"Hillshade_9am\",\"Hillshade_Noon\", \"Hillshade_3pm\"],axis = 1)\n",
    "Test_trans = Test_trans.drop([\"Hillshade_9am\",\"Hillshade_Noon\", \"Hillshade_3pm\"],axis = 1)"
   ]
  },
  {
   "cell_type": "code",
   "execution_count": 15,
   "metadata": {},
   "outputs": [],
   "source": [
    "#Seperate X and Y values in the train and test set.\n",
    "#Y\n",
    "Ytrans_training = Train_trans[\"Forest Cover Type\"].values #forest cover type\n",
    "Ytrans_testing= Test_trans[\"ids\"].values #ids\n",
    "#X\n",
    "Xtrans_training = Train_trans.drop(\"Forest Cover Type\",axis = 1).values #all variables except Cover type (i.e. the y value)\n",
    "Xtrans_testing = Test_trans.drop(\"ids\", axis = 1).values #all variables except ids (i.e. the y value)\n",
    "#Split into validation and training sets\n",
    "Xtrans_train, Xtrans_val, Ytrans_train, Ytrans_val= train_test_split(Xtrans_training,Ytrans_training,test_size=0.2)\n",
    "#----------------------------------------------------------------------------------------------------------#"
   ]
  },
  {
   "cell_type": "code",
   "execution_count": 16,
   "metadata": {},
   "outputs": [
    {
     "name": "stdout",
     "output_type": "stream",
     "text": [
      "(481011, 10) (100000, 10)\n"
     ]
    }
   ],
   "source": [
    "print(Train_trans.shape, Test_trans.shape)"
   ]
  },
  {
   "cell_type": "markdown",
   "metadata": {},
   "source": [
    "## 5. Feature Engineering"
   ]
  },
  {
   "cell_type": "code",
   "execution_count": 17,
   "metadata": {},
   "outputs": [],
   "source": [
    "def feature_engineering(dataset):\n",
    "    data = dataset\n",
    "    \n",
    "    #sqrt(HD_Hyd^2 + VD_Hyd^2)\n",
    "    data['Distance_to_Hydrolody'] = (data['Horizontal_Distance_To_Hydrology']**2 + \n",
    "                                     data['Vertical_Distance_To_Hydrology']**2)**0.5\n",
    "    \n",
    "    #HD_Hyd (+ then -) HD_Fire\n",
    "    data['HdHyd_plus_HdFire'] = data['Horizontal_Distance_To_Hydrology'] + data['Horizontal_Distance_To_Fire_Points']\n",
    "    data['HdHyd_minus_HdFire'] = data['Horizontal_Distance_To_Hydrology'] - data['Horizontal_Distance_To_Fire_Points']\n",
    "    \n",
    "     #HD_Hyd (+ then -) HD_Road\n",
    "    data['HdHyd_plus_HdRoad'] = data['Horizontal_Distance_To_Hydrology'] + data['Horizontal_Distance_To_Roadways']\n",
    "    data['HdHyd_minus_HdRoad'] = data['Horizontal_Distance_To_Hydrology'] - data['Horizontal_Distance_To_Roadways']\n",
    "    \n",
    "     #HD_Fire (+ then -) HD_Road\n",
    "    data['HdFire_plus_HdRoad'] = data['Horizontal_Distance_To_Fire_Points'] + data['Horizontal_Distance_To_Roadways']\n",
    "    data['HdFire_minus_HdRoad'] = data['Horizontal_Distance_To_Fire_Points'] - data['Horizontal_Distance_To_Roadways']\n",
    "    \n",
    "    #Elevation - Hor_Road\n",
    "    data[\"Elev_minus_HdRoad\"] = data[\"Elevation\"] - data[\"Horizontal_Distance_To_Roadways\"]\n",
    "    \n",
    "    #Elevation (+ then -) Vert_Hyd\n",
    "    data[\"Elev_minus_VdHyd\"] = data[\"Elevation\"] - data[\"Vertical_Distance_To_Hydrology\"]\n",
    "    data[\"Elev_plus_VdHyd\"] = data[\"Elevation\"] + data[\"Vertical_Distance_To_Hydrology\"]\n",
    "    \n",
    "    #Elevation - Hor_Hyd\n",
    "    data[\"Elev_minus_HdHyd\"] = data[\"Elevation\"] - data[\"Horizontal_Distance_To_Hydrology\"]\n",
    "    \n",
    "    #Elevation - Hor_Fire\n",
    "    data[\"Elev_minus_HdFire\"] = data[\"Elevation\"] - data[\"Horizontal_Distance_To_Fire_Points\"]\n",
    "    \n",
    "    #Elevation - soil\n",
    "    data[\"Elev_minus_soil\"] = data[\"Elevation\"] - data[\"soil\"]\n",
    "    \n",
    "    #Elevation - soil\n",
    "    data[\"Elev_minus_WA\"] = data[\"Elevation\"] - data[\"Wilderness_Area\"]\n",
    "    return data"
   ]
  },
  {
   "cell_type": "code",
   "execution_count": 18,
   "metadata": {},
   "outputs": [],
   "source": [
    "feature_engineering(Train_trans)\n",
    "feature_engineering(Test_trans)\n",
    "\n",
    "#Seperate X and Y values in the train and test set.\n",
    "#Y\n",
    "Ytrans_training = Train_trans[\"Forest Cover Type\"].values #forest cover type\n",
    "Ytrans_testing= Test_trans[\"ids\"].values #ids\n",
    "#X\n",
    "Xtrans_training = Train_trans.drop(\"Forest Cover Type\",axis = 1).values #all variables except Cover type (i.e. the y value)\n",
    "Xtrans_testing = Test_trans.drop(\"ids\", axis = 1).values #all variables except ids (i.e. the y value)"
   ]
  },
  {
   "cell_type": "code",
   "execution_count": 19,
   "metadata": {},
   "outputs": [
    {
     "name": "stdout",
     "output_type": "stream",
     "text": [
      "(481011, 24) (100000, 24)\n"
     ]
    }
   ],
   "source": [
    "print(Train_trans.shape, Test_trans.shape)"
   ]
  },
  {
   "cell_type": "code",
   "execution_count": 20,
   "metadata": {},
   "outputs": [],
   "source": [
    "#Rebalance Classes (i.e. cover types)\n",
    "smote = SMOTE(ratio='all') #resample all classes\n",
    "Xtrain_small, Ytrain_small = smote.fit_sample(Xtrans_training,Ytrans_training)\n",
    "Xtest_small, Ytest_small = smote.fit_sample(Xtrans_testing,Ytrans_testing)\n",
    "#Split into validation and training sets\n",
    "Xtrans_trainsm, Xtrans_valsm, Ytrans_trainsm, Ytrans_valsm = train_test_split(Xtrain_small, Ytrain_small,test_size=0.2)"
   ]
  },
  {
   "cell_type": "code",
   "execution_count": 21,
   "metadata": {},
   "outputs": [
    {
     "name": "stdout",
     "output_type": "stream",
     "text": [
      "(1314801, 23) (1314801,) (328701, 23) (328701,)\n"
     ]
    }
   ],
   "source": [
    "print(Xtrans_trainsm.shape, Ytrans_trainsm.shape,Xtrans_valsm.shape,Ytrans_valsm.shape)"
   ]
  },
  {
   "cell_type": "markdown",
   "metadata": {},
   "source": [
    "## 6. Model"
   ]
  },
  {
   "cell_type": "markdown",
   "metadata": {},
   "source": [
    "### Extra Trees Classifier"
   ]
  },
  {
   "cell_type": "code",
   "execution_count": 22,
   "metadata": {
    "scrolled": true
   },
   "outputs": [
    {
     "name": "stdout",
     "output_type": "stream",
     "text": [
      "Training Extra Trees\n",
      "Testing Extra Trees\n",
      "EXT's prediction accuracy: 99.52\n",
      "              precision    recall  f1-score   support\n",
      "\n",
      "           1       0.99      0.99      0.99     46983\n",
      "           2       0.99      0.98      0.98     46693\n",
      "           3       1.00      1.00      1.00     47328\n",
      "           4       1.00      1.00      1.00     46961\n",
      "           5       1.00      1.00      1.00     47031\n",
      "           6       1.00      1.00      1.00     46902\n",
      "           7       1.00      1.00      1.00     46803\n",
      "\n",
      "   micro avg       1.00      1.00      1.00    328701\n",
      "   macro avg       1.00      1.00      1.00    328701\n",
      "weighted avg       1.00      1.00      1.00    328701\n",
      "\n",
      "                                    importance\n",
      "feature                                       \n",
      "Elev_minus_soil                          0.117\n",
      "Elevation                                0.116\n",
      "Elev_minus_VdHyd                         0.110\n",
      "soil                                     0.091\n",
      "Elev_minus_WA                            0.087\n",
      "Wilderness_Area                          0.071\n",
      "Elev_plus_VdHyd                          0.056\n",
      "Aspect                                   0.040\n",
      "HdFire_plus_HdRoad                       0.028\n",
      "Elev_minus_HdHyd                         0.028\n",
      "HdFire_minus_HdRoad                      0.025\n",
      "HdHyd_minus_HdRoad                       0.024\n",
      "Elev_minus_HdRoad                        0.023\n",
      "Elev_minus_HdFire                        0.021\n",
      "Horizontal_Distance_To_Roadways          0.021\n",
      "HdHyd_plus_HdFire                        0.020\n",
      "Distance_to_Hydrolody                    0.020\n",
      "Horizontal_Distance_To_Fire_Points       0.019\n",
      "HdHyd_plus_HdRoad                        0.019\n",
      "Horizontal_Distance_To_Hydrology         0.019\n",
      "HdHyd_minus_HdFire                       0.019\n",
      "Slope                                    0.014\n",
      "Vertical_Distance_To_Hydrology           0.013\n",
      "The first 18 of 23 features, in order of importance, accounts for  91.7 % of features.\n"
     ]
    },
    {
     "data": {
      "image/png": "[encoded data removed]",
      "text/plain": [
       "<matplotlib.figure.Figure at 0x7fdd68cc8fd0>"
      ]
     },
     "metadata": {},
     "output_type": "display_data"
    }
   ],
   "source": [
    "#fit model first\n",
    "ext_clf100 = ExtraTreesClassifier(n_estimators = 100,n_jobs = 3,verbose = 0, max_features = 16,\n",
    "                                  max_depth = 50, criterion='entropy')\n",
    "print(\"Training Extra Trees\")\n",
    "ext_clf100.fit(Xtrans_trainsm, Ytrans_trainsm)\n",
    "print(\"Testing Extra Trees\")\n",
    "ext_type_predADA = ext_clf100.predict(Xtrans_valsm)\n",
    "print (\"EXT's prediction accuracy: %3.2f\" % (metrics.accuracy_score(Ytrans_valsm,ext_type_predADA)*100))\n",
    "print(metrics.classification_report(Ytrans_valsm,ext_type_predADA))\n",
    "#---------------------------------------------------------------------------------------------------------------#\n",
    "fts = ext_clf100.feature_importances_\n",
    "ind = Train_trans.drop(\"Forest Cover Type\",axis = 1)\n",
    "importances = pd.DataFrame({'feature':ind.columns,'importance':np.round(fts,3)})\n",
    "importances = importances.sort_values('importance',ascending=False).set_index('feature')     \n",
    "print(importances)\n",
    "(pd.Series(fts, index=ind.columns).nlargest(len(importances)).plot(kind='barh'))  \n",
    "#---------------------------------------------------------------------------------------------------------------#\n",
    "per = 0\n",
    "cnt = 0\n",
    "for i in importances[\"importance\"]:\n",
    "    if per <= 0.90:\n",
    "        per += i\n",
    "        cnt += 1\n",
    "print(\"The first\", cnt,\"of\", len(importances) ,\"features, in order of importance, accounts for \", \n",
    "      np.round(per,3)*100.0, \"% of features.\")"
   ]
  },
  {
   "cell_type": "markdown",
   "metadata": {},
   "source": [
    "#### Thresholds for selecting features by feature importance.\n",
    "Fit model using each importance as a threshold."
   ]
  },
  {
   "cell_type": "code",
   "execution_count": 23,
   "metadata": {},
   "outputs": [],
   "source": [
    "from numpy import sort\n",
    "from sklearn.metrics import accuracy_score\n",
    "from sklearn.feature_selection import SelectFromModel\n",
    "thresholds = sort(fts)"
   ]
  },
  {
   "cell_type": "markdown",
   "metadata": {},
   "source": [
    "rf_thr = ExtraTreesClassifier(n_estimators = 100,n_jobs = 3,verbose = 0,\n",
    "                                  max_depth = 50, criterion='entropy')\n",
    "for thresh in thresholds:\n",
    "    # selecting features using threshold\n",
    "    selection = SelectFromModel(ext_clf100, threshold=thresh, prefit=True)\n",
    "    select_train_x = selection.transform(Xtrans_trainsm) \n",
    "    \n",
    "    # training model\n",
    "    selection_model = rf_thr\n",
    "    selection_model.fit(select_train_x, Ytrans_trainsm)\n",
    "    \n",
    "    # evaluating model\n",
    "    select_test_x = selection.transform(Xtrans_valsm)\n",
    "    pred_y = selection_model.predict(select_test_x)\n",
    "    predictions = [round(value) for value in pred_y]\n",
    "    accuracy = metrics.accuracy_score(Ytrans_valsm, predictions)\n",
    "    print(\"Thresh=%.3f, n=%d, Accuracy: %.2f%%\" % (thresh, select_train_x.shape[1], accuracy*100.0))"
   ]
  },
  {
   "cell_type": "markdown",
   "metadata": {},
   "source": [
    "### Extra Trees Classifier w/ ADA Boost"
   ]
  },
  {
   "cell_type": "code",
   "execution_count": null,
   "metadata": {
    "scrolled": true
   },
   "outputs": [
    {
     "name": "stdout",
     "output_type": "stream",
     "text": [
      "Training Extra Trees\n"
     ]
    },
    {
     "name": "stderr",
     "output_type": "stream",
     "text": [
      "[Parallel(n_jobs=3)]: Using backend ThreadingBackend with 3 concurrent workers.\n"
     ]
    },
    {
     "name": "stdout",
     "output_type": "stream",
     "text": [
      "building tree 1 of 300\n",
      "building tree 2 of 300\n",
      "building tree 3 of 300\n",
      "building tree 4 of 300\n",
      "building tree 5 of 300\n",
      "building tree 6 of 300\n",
      "building tree 7 of 300\n",
      "building tree 8 of 300\n",
      "building tree 9 of 300\n",
      "building tree 10 of 300\n",
      "building tree 11 of 300\n",
      "building tree 12 of 300\n",
      "building tree 13 of 300\n",
      "building tree 14 of 300\n",
      "building tree 15 of 300\n",
      "building tree 16 of 300\n",
      "building tree 17 of 300\n",
      "building tree 18 of 300\n",
      "building tree 19 of 300\n",
      "building tree 20 of 300\n",
      "building tree 21 of 300\n",
      "building tree 22 of 300\n",
      "building tree 23 of 300\n",
      "building tree 24 of 300\n",
      "building tree 25 of 300\n",
      "building tree 26 of 300\n",
      "building tree 27 of 300\n",
      "building tree 28 of 300\n",
      "building tree 29 of 300\n",
      "building tree 30 of 300\n",
      "building tree 31 of 300\n",
      "building tree 32 of 300\n",
      "building tree 33 of 300\n",
      "building tree 34 of 300\n",
      "building tree 35 of 300\n",
      "building tree 36 of 300\n",
      "building tree 37 of 300\n"
     ]
    },
    {
     "name": "stderr",
     "output_type": "stream",
     "text": [
      "[Parallel(n_jobs=3)]: Done  35 tasks      | elapsed:  1.7min\n"
     ]
    },
    {
     "name": "stdout",
     "output_type": "stream",
     "text": [
      "building tree 38 of 300\n",
      "building tree 39 of 300\n",
      "building tree 40 of 300\n",
      "building tree 41 of 300\n",
      "building tree 42 of 300\n",
      "building tree 43 of 300\n",
      "building tree 44 of 300\n",
      "building tree 45 of 300\n",
      "building tree 46 of 300\n",
      "building tree 47 of 300\n",
      "building tree 48 of 300\n",
      "building tree 49 of 300\n",
      "building tree 50 of 300\n",
      "building tree 51 of 300\n",
      "building tree 52 of 300\n",
      "building tree 53 of 300\n",
      "building tree 54 of 300\n",
      "building tree 55 of 300\n",
      "building tree 56 of 300\n",
      "building tree 57 of 300\n",
      "building tree 58 of 300\n",
      "building tree 59 of 300\n",
      "building tree 60 of 300\n",
      "building tree 61 of 300\n",
      "building tree 62 of 300\n",
      "building tree 63 of 300\n",
      "building tree 64 of 300\n",
      "building tree 65 of 300\n",
      "building tree 66 of 300\n",
      "building tree 67 of 300\n",
      "building tree 68 of 300\n",
      "building tree 69 of 300\n",
      "building tree 70 of 300\n",
      "building tree 71 of 300\n",
      "building tree 72 of 300\n",
      "building tree 73 of 300\n",
      "building tree 74 of 300\n",
      "building tree 75 of 300\n",
      "building tree 76 of 300\n",
      "building tree 77 of 300\n",
      "building tree 78 of 300\n",
      "building tree 79 of 300\n",
      "building tree 80 of 300\n",
      "building tree 81 of 300\n",
      "building tree 82 of 300\n",
      "building tree 83 of 300\n",
      "building tree 84 of 300\n",
      "building tree 85 of 300\n",
      "building tree 86 of 300\n",
      "building tree 87 of 300\n",
      "building tree 88 of 300\n",
      "building tree 89 of 300\n",
      "building tree 90 of 300\n",
      "building tree 91 of 300\n",
      "building tree 92 of 300\n",
      "building tree 93 of 300\n",
      "building tree 94 of 300\n",
      "building tree 95 of 300\n",
      "building tree 96 of 300\n",
      "building tree 97 of 300\n",
      "building tree 98 of 300\n",
      "building tree 99 of 300\n",
      "building tree 100 of 300\n",
      "building tree 101 of 300\n",
      "building tree 102 of 300\n",
      "building tree 103 of 300\n",
      "building tree 104 of 300\n",
      "building tree 105 of 300\n",
      "building tree 106 of 300\n",
      "building tree 107 of 300\n",
      "building tree 108 of 300\n",
      "building tree 109 of 300\n",
      "building tree 110 of 300\n",
      "building tree 111 of 300\n",
      "building tree 112 of 300\n",
      "building tree 113 of 300\n",
      "building tree 114 of 300\n",
      "building tree 115 of 300\n",
      "building tree 116 of 300\n",
      "building tree 117 of 300\n",
      "building tree 118 of 300\n",
      "building tree 119 of 300\n",
      "building tree 120 of 300\n",
      "building tree 121 of 300\n",
      "building tree 122 of 300\n",
      "building tree 123 of 300\n",
      "building tree 124 of 300\n",
      "building tree 125 of 300\n",
      "building tree 126 of 300\n",
      "building tree 127 of 300\n",
      "building tree 128 of 300\n",
      "building tree 129 of 300\n",
      "building tree 130 of 300\n",
      "building tree 131 of 300\n",
      "building tree 132 of 300\n",
      "building tree 133 of 300\n",
      "building tree 134 of 300\n",
      "building tree 135 of 300\n",
      "building tree 136 of 300\n",
      "building tree 137 of 300\n",
      "building tree 138 of 300\n",
      "building tree 139 of 300\n",
      "building tree 140 of 300\n",
      "building tree 141 of 300\n",
      "building tree 142 of 300\n",
      "building tree 143 of 300\n",
      "building tree 144 of 300\n",
      "building tree 145 of 300\n",
      "building tree 146 of 300\n",
      "building tree 147 of 300\n",
      "building tree 148 of 300\n",
      "building tree 149 of 300\n",
      "building tree 150 of 300\n",
      "building tree 151 of 300\n",
      "building tree 152 of 300\n",
      "building tree 153 of 300\n",
      "building tree 154 of 300\n",
      "building tree 155 of 300\n",
      "building tree 156 of 300\n",
      "building tree 157 of 300\n",
      "building tree 158 of 300\n",
      "building tree 159 of 300\n"
     ]
    },
    {
     "name": "stderr",
     "output_type": "stream",
     "text": [
      "[Parallel(n_jobs=3)]: Done 156 tasks      | elapsed:  7.6min\n"
     ]
    },
    {
     "name": "stdout",
     "output_type": "stream",
     "text": [
      "building tree 160 of 300\n",
      "building tree 161 of 300\n",
      "building tree 162 of 300\n",
      "building tree 163 of 300\n",
      "building tree 164 of 300\n",
      "building tree 165 of 300\n",
      "building tree 166 of 300\n",
      "building tree 167 of 300\n",
      "building tree 168 of 300\n",
      "building tree 169 of 300\n",
      "building tree 170 of 300\n",
      "building tree 171 of 300\n",
      "building tree 172 of 300\n",
      "building tree 173 of 300\n",
      "building tree 174 of 300\n",
      "building tree 175 of 300\n",
      "building tree 176 of 300\n",
      "building tree 177 of 300\n",
      "building tree 178 of 300\n",
      "building tree 179 of 300\n",
      "building tree 180 of 300\n",
      "building tree 181 of 300\n",
      "building tree 182 of 300\n",
      "building tree 183 of 300\n",
      "building tree 184 of 300\n",
      "building tree 185 of 300\n",
      "building tree 186 of 300\n",
      "building tree 187 of 300\n",
      "building tree 188 of 300\n",
      "building tree 189 of 300\n",
      "building tree 190 of 300\n",
      "building tree 191 of 300\n",
      "building tree 192 of 300\n",
      "building tree 193 of 300\n",
      "building tree 194 of 300\n",
      "building tree 195 of 300\n",
      "building tree 196 of 300\n",
      "building tree 197 of 300\n",
      "building tree 198 of 300\n",
      "building tree 199 of 300\n",
      "building tree 200 of 300\n",
      "building tree 201 of 300\n",
      "building tree 202 of 300\n",
      "building tree 203 of 300\n",
      "building tree 204 of 300\n",
      "building tree 205 of 300\n",
      "building tree 206 of 300\n",
      "building tree 207 of 300\n",
      "building tree 208 of 300\n",
      "building tree 209 of 300\n",
      "building tree 210 of 300\n",
      "building tree 211 of 300\n",
      "building tree 212 of 300\n",
      "building tree 213 of 300\n",
      "building tree 214 of 300\n",
      "building tree 215 of 300\n",
      "building tree 216 of 300\n",
      "building tree 217 of 300\n",
      "building tree 218 of 300\n",
      "building tree 219 of 300\n",
      "building tree 220 of 300\n",
      "building tree 221 of 300\n",
      "building tree 222 of 300\n",
      "building tree 223 of 300\n",
      "building tree 224 of 300\n",
      "building tree 225 of 300\n",
      "building tree 226 of 300\n",
      "building tree 227 of 300\n",
      "building tree 228 of 300\n",
      "building tree 229 of 300\n",
      "building tree 230 of 300\n",
      "building tree 231 of 300\n",
      "building tree 232 of 300\n",
      "building tree 233 of 300\n",
      "building tree 234 of 300\n",
      "building tree 235 of 300\n",
      "building tree 236 of 300\n",
      "building tree 237 of 300\n",
      "building tree 238 of 300\n",
      "building tree 239 of 300\n",
      "building tree 240 of 300\n",
      "building tree 241 of 300\n",
      "building tree 242 of 300\n",
      "building tree 243 of 300\n",
      "building tree 244 of 300\n",
      "building tree 245 of 300\n",
      "building tree 246 of 300\n",
      "building tree 247 of 300\n",
      "building tree 248 of 300\n",
      "building tree 249 of 300\n",
      "building tree 250 of 300\n",
      "building tree 251 of 300\n",
      "building tree 252 of 300\n",
      "building tree 253 of 300\n",
      "building tree 254 of 300\n",
      "building tree 255 of 300\n",
      "building tree 256 of 300\n",
      "building tree 257 of 300\n",
      "building tree 258 of 300\n",
      "building tree 259 of 300\n",
      "building tree 260 of 300\n",
      "building tree 261 of 300\n",
      "building tree 262 of 300\n",
      "building tree 263 of 300\n",
      "building tree 264 of 300\n",
      "building tree 265 of 300\n",
      "building tree 266 of 300\n",
      "building tree 267 of 300\n",
      "building tree 268 of 300\n",
      "building tree 269 of 300\n",
      "building tree 270 of 300\n",
      "building tree 271 of 300\n",
      "building tree 272 of 300\n",
      "building tree 273 of 300\n",
      "building tree 274 of 300\n",
      "building tree 275 of 300\n",
      "building tree 276 of 300\n",
      "building tree 277 of 300\n",
      "building tree 278 of 300\n",
      "building tree 279 of 300\n",
      "building tree 280 of 300\n",
      "building tree 281 of 300\n",
      "building tree 282 of 300\n",
      "building tree 283 of 300\n",
      "building tree 284 of 300\n",
      "building tree 285 of 300\n",
      "building tree 286 of 300\n",
      "building tree 287 of 300\n",
      "building tree 288 of 300\n",
      "building tree 289 of 300\n",
      "building tree 290 of 300\n",
      "building tree 291 of 300\n",
      "building tree 292 of 300\n",
      "building tree 293 of 300\n",
      "building tree 294 of 300\n",
      "building tree 295 of 300\n",
      "building tree 296 of 300\n",
      "building tree 297 of 300\n",
      "building tree 298 of 300\n",
      "building tree 299 of 300\n",
      "building tree 300 of 300\n"
     ]
    },
    {
     "name": "stderr",
     "output_type": "stream",
     "text": [
      "[Parallel(n_jobs=3)]: Done 300 out of 300 | elapsed: 14.6min finished\n",
      "[Parallel(n_jobs=3)]: Using backend ThreadingBackend with 3 concurrent workers.\n"
     ]
    }
   ],
   "source": [
    "rng = np.random.RandomState(1)\n",
    "ext_clf_EXT = ExtraTreesClassifier(n_estimators = 300,n_jobs = 3,verbose = 2, max_features = 16,\n",
    "                                  max_depth = 50, criterion='entropy')\n",
    "ext_clfADA = AdaBoostClassifier(base_estimator = ext_clf_EXT,n_estimators = 100,learning_rate = 0.1, \n",
    "                                      random_state=rng)\n",
    "print(\"Training Extra Trees\")\n",
    "ext_clfADA.fit(Xtrans_trainsm, Ytrans_trainsm)\n",
    "print(\"Testing Extra Trees\")\n",
    "ext_type_predADA = ext_clfADA.predict(Xtrans_valsm)\n",
    "print (\"EXT's prediction accuracy: %3.2f\" % (metrics.accuracy_score(Ytrans_valsm,ext_type_predADA)*100))\n",
    "print(metrics.classification_report(Ytrans_valsm,ext_type_predADA))"
   ]
  },
  {
   "cell_type": "markdown",
   "metadata": {},
   "source": [
    "## 7. Submission"
   ]
  },
  {
   "cell_type": "code",
   "execution_count": 25,
   "metadata": {
    "scrolled": true
   },
   "outputs": [
    {
     "name": "stderr",
     "output_type": "stream",
     "text": [
      "[Parallel(n_jobs=3)]: Using backend ThreadingBackend with 3 concurrent workers.\n"
     ]
    },
    {
     "name": "stdout",
     "output_type": "stream",
     "text": [
      "building tree 1 of 100\n",
      "building tree 2 of 100\n",
      "building tree 3 of 100\n",
      "building tree 4 of 100\n",
      "building tree 5 of 100\n",
      "building tree 6 of 100\n",
      "building tree 7 of 100\n",
      "building tree 8 of 100\n",
      "building tree 9 of 100\n",
      "building tree 10 of 100\n",
      "building tree 11 of 100\n",
      "building tree 12 of 100\n",
      "building tree 13 of 100\n",
      "building tree 14 of 100\n",
      "building tree 15 of 100\n",
      "building tree 16 of 100\n",
      "building tree 17 of 100\n",
      "building tree 18 of 100\n",
      "building tree 19 of 100\n",
      "building tree 20 of 100\n",
      "building tree 21 of 100\n",
      "building tree 22 of 100\n",
      "building tree 23 of 100\n",
      "building tree 24 of 100\n",
      "building tree 25 of 100\n",
      "building tree 26 of 100\n",
      "building tree 27 of 100\n",
      "building tree 28 of 100\n",
      "building tree 29 of 100\n",
      "building tree 30 of 100\n",
      "building tree 31 of 100\n",
      "building tree 32 of 100\n",
      "building tree 33 of 100\n",
      "building tree 34 of 100\n",
      "building tree 35 of 100\n",
      "building tree 36 of 100\n",
      "building tree 37 of 100\n"
     ]
    },
    {
     "name": "stderr",
     "output_type": "stream",
     "text": [
      "[Parallel(n_jobs=3)]: Done  35 tasks      | elapsed:  1.3min\n"
     ]
    },
    {
     "name": "stdout",
     "output_type": "stream",
     "text": [
      "building tree 38 of 100\n",
      "building tree 39 of 100\n",
      "building tree 40 of 100\n",
      "building tree 41 of 100\n",
      "building tree 42 of 100\n",
      "building tree 43 of 100\n",
      "building tree 44 of 100\n",
      "building tree 45 of 100\n",
      "building tree 46 of 100\n",
      "building tree 47 of 100\n",
      "building tree 48 of 100\n",
      "building tree 49 of 100\n",
      "building tree 50 of 100\n",
      "building tree 51 of 100\n",
      "building tree 52 of 100\n",
      "building tree 53 of 100\n",
      "building tree 54 of 100\n",
      "building tree 55 of 100\n",
      "building tree 56 of 100\n",
      "building tree 57 of 100\n",
      "building tree 58 of 100\n",
      "building tree 59 of 100\n",
      "building tree 60 of 100\n",
      "building tree 61 of 100\n",
      "building tree 62 of 100\n",
      "building tree 63 of 100\n",
      "building tree 64 of 100\n",
      "building tree 65 of 100\n",
      "building tree 66 of 100\n",
      "building tree 67 of 100\n",
      "building tree 68 of 100\n",
      "building tree 69 of 100\n",
      "building tree 70 of 100\n",
      "building tree 71 of 100\n",
      "building tree 72 of 100\n",
      "building tree 73 of 100\n",
      "building tree 74 of 100\n",
      "building tree 75 of 100\n",
      "building tree 76 of 100\n",
      "building tree 77 of 100\n",
      "building tree 78 of 100\n",
      "building tree 79 of 100\n",
      "building tree 80 of 100\n",
      "building tree 81 of 100\n",
      "building tree 82 of 100\n",
      "building tree 83 of 100\n",
      "building tree 84 of 100\n",
      "building tree 85 of 100\n",
      "building tree 86 of 100\n",
      "building tree 87 of 100\n",
      "building tree 88 of 100\n",
      "building tree 89 of 100\n",
      "building tree 90 of 100\n",
      "building tree 91 of 100\n",
      "building tree 92 of 100\n",
      "building tree 93 of 100\n",
      "building tree 94 of 100\n",
      "building tree 95 of 100\n",
      "building tree 96 of 100\n",
      "building tree 97 of 100\n",
      "building tree 98 of 100\n",
      "building tree 99 of 100\n",
      "building tree 100 of 100\n"
     ]
    },
    {
     "name": "stderr",
     "output_type": "stream",
     "text": [
      "[Parallel(n_jobs=3)]: Done 100 out of 100 | elapsed:  3.6min finished\n",
      "[Parallel(n_jobs=3)]: Using backend ThreadingBackend with 3 concurrent workers.\n",
      "[Parallel(n_jobs=3)]: Done  35 tasks      | elapsed:    5.5s\n",
      "[Parallel(n_jobs=3)]: Done 100 out of 100 | elapsed:   15.2s finished\n",
      "[Parallel(n_jobs=3)]: Using backend ThreadingBackend with 3 concurrent workers.\n",
      "[Parallel(n_jobs=3)]: Done  35 tasks      | elapsed:    0.4s\n"
     ]
    },
    {
     "name": "stdout",
     "output_type": "stream",
     "text": [
      "   ids  Forest Cover Type\n",
      "0    1                  1\n",
      "1    2                  1\n",
      "2    3                  1\n",
      "3    4                  1\n",
      "4    5                  1\n"
     ]
    },
    {
     "name": "stderr",
     "output_type": "stream",
     "text": [
      "[Parallel(n_jobs=3)]: Done 100 out of 100 | elapsed:    1.1s finished\n"
     ]
    }
   ],
   "source": [
    "#Submission\n",
    "#retrain with entire training set\n",
    "ext_clfADA.fit(Xtrain_small, Ytrain_small)\n",
    "#predict\n",
    "Fcovertype_pred = ext_clfADA.predict(Xtest_small)\n",
    "#print sumbmission results to a csv \n",
    "submission = {\"ids\":Ytest_small, \"Forest Cover Type\":Fcovertype_pred }\n",
    "submission = pd.DataFrame(submission,  columns = [\"ids\",\"Forest Cover Type\"])\n",
    "print(submission.head())"
   ]
  },
  {
   "cell_type": "code",
   "execution_count": 26,
   "metadata": {},
   "outputs": [
    {
     "name": "stdout",
     "output_type": "stream",
     "text": [
      "          ids  Forest Cover Type\n",
      "99995   99996                  7\n",
      "99996   99997                  1\n",
      "99997   99998                  2\n",
      "99998   99999                  3\n",
      "99999  100000                  5\n"
     ]
    }
   ],
   "source": [
    "print(submission.tail())\n",
    "submission.to_csv(\"finalsubmission.csv\",index=False)"
   ]
  },
  {
   "cell_type": "code",
   "execution_count": null,
   "metadata": {},
   "outputs": [],
   "source": []
  }
 ],
 "metadata": {
  "kernelspec": {
   "display_name": "Python 3",
   "language": "python",
   "name": "python3"
  },
  "language_info": {
   "codemirror_mode": {
    "name": "ipython",
    "version": 3
   },
   "file_extension": ".py",
   "mimetype": "text/x-python",
   "name": "python",
   "nbconvert_exporter": "python",
   "pygments_lexer": "ipython3",
   "version": "3.6.5"
  }
 },
 "nbformat": 4,
 "nbformat_minor": 2
}
